{
 "cells": [
  {
   "cell_type": "markdown",
   "metadata": {},
   "source": [
    "# CV Project Jupyter Script"
   ]
  },
  {
   "cell_type": "markdown",
   "metadata": {},
   "source": [
    "## Clone Project From ( Optional )"
   ]
  },
  {
   "cell_type": "code",
   "execution_count": null,
   "metadata": {},
   "outputs": [],
   "source": [
    "PullFromRepo = False\n",
    "\n",
    "if PullFromRepo:\n",
    "    !git init\n",
    "    !git remote add origin \"https://github.com/freshLiver/CV_PROJECT\"\n",
    "    !git pull origin test\n",
    "    pass\n"
   ]
  },
  {
   "cell_type": "markdown",
   "metadata": {},
   "source": [
    "## Imports and Hyper-parameters"
   ]
  },
  {
   "cell_type": "markdown",
   "metadata": {},
   "source": [
    "### Imports"
   ]
  },
  {
   "cell_type": "code",
   "execution_count": null,
   "metadata": {},
   "outputs": [],
   "source": [
    "import torch\n",
    "import torch.backends.cudnn as cudnn\n",
    "import torchvision.transforms as transforms\n",
    "from torch.utils.data import DataLoader\n",
    "\n",
    "from light_cnn import LightCNN_9Layers\n",
    "from functional import TrainingHelper, ImageList\n"
   ]
  },
  {
   "cell_type": "markdown",
   "metadata": {},
   "source": [
    "### Hyper-parameters"
   ]
  },
  {
   "cell_type": "code",
   "execution_count": null,
   "metadata": {},
   "outputs": [],
   "source": [
    "# training\n",
    "EPOCHS = 5\n",
    "BS = 128             # batch size\n",
    "LR = 0.0001          # learning rate\n",
    "NUM_WORKER = 2\n",
    "PRINT_FREQUENCY = 10\n",
    "VALID_RATIO = 0.2\n"
   ]
  },
  {
   "cell_type": "markdown",
   "metadata": {},
   "source": [
    "## Data Pre-processing"
   ]
  },
  {
   "cell_type": "markdown",
   "metadata": {},
   "source": [
    "### Download and Unzip Dataset"
   ]
  },
  {
   "cell_type": "code",
   "execution_count": null,
   "metadata": {},
   "outputs": [],
   "source": [
    "import math\n",
    "import random\n",
    "from os import system\n",
    "from pathlib import Path\n",
    "\n",
    "# give me abs path\n",
    "ROOT = Path(\"/tmp\")\n",
    "TRAIN_LIST = Path.joinpath(ROOT, \"train_list.txt\")\n",
    "VALID_LIST = Path.joinpath(ROOT, \"valid_list.txt\")\n",
    "\n",
    "# download dataset\n",
    "system(f\"wget -cP {ROOT} http://vis-www.cs.umass.edu/lfw/lfw.tgz\")\n",
    "\n",
    "# extract if dir not exists\n",
    "dataset_dir = Path(f'{ROOT}/lfw')\n",
    "if not dataset_dir.exists():\n",
    "    system(f\"tar -xf {ROOT}/lfw.tgz --directory {ROOT}\")\n"
   ]
  },
  {
   "cell_type": "markdown",
   "metadata": {},
   "source": [
    "### Parse Dataset"
   ]
  },
  {
   "cell_type": "code",
   "execution_count": null,
   "metadata": {},
   "outputs": [],
   "source": [
    "# load data into dict\n",
    "dataset = []\n",
    "\n",
    "NUM_CLASSES = 0\n",
    "for index, catdir in enumerate(dataset_dir.glob(\"*\")):\n",
    "    # iterate each file in this dir\n",
    "    for pth in catdir.glob(\"*\"):\n",
    "        dataset.append((pth, index))\n",
    "    NUM_CLASSES += 1\n",
    "\n",
    "    # TODO trick\n",
    "    if NUM_CLASSES == 100:\n",
    "        break\n",
    "\n",
    "random.shuffle(dataset)\n",
    "\n",
    "# split dataset\n",
    "train_size = math.floor(len(dataset) * (1-VALID_RATIO))\n",
    "valid_size = len(dataset) - train_size\n"
   ]
  },
  {
   "cell_type": "markdown",
   "metadata": {},
   "source": [
    "### Save Dataset (Train Dataset, Valid Dataset)"
   ]
  },
  {
   "cell_type": "code",
   "execution_count": null,
   "metadata": {},
   "outputs": [],
   "source": [
    "# save to file\n",
    "with open(TRAIN_LIST, 'w') as f:\n",
    "    for img, cat in dataset[:train_size]:\n",
    "        f.write(f'{img} {cat}\\n')\n",
    "\n",
    "with open(VALID_LIST, 'w') as f:\n",
    "    for img, cat in dataset[train_size:]:\n",
    "        f.write(f'{img} {cat}\\n')\n"
   ]
  },
  {
   "cell_type": "markdown",
   "metadata": {},
   "source": [
    "## Main Script"
   ]
  },
  {
   "cell_type": "markdown",
   "metadata": {},
   "source": [
    "### Choose Model"
   ]
  },
  {
   "cell_type": "code",
   "execution_count": null,
   "metadata": {},
   "outputs": [],
   "source": [
    "from torchvision.models.vgg import vgg16\n",
    "\n",
    "model = vgg16(pretrained=False, num_classes=NUM_CLASSES)\n",
    "\n",
    "# large lr for last fc parameters\n",
    "if torch.cuda.is_available():\n",
    "    model = model.cuda()\n",
    "\n",
    "print(model)\n"
   ]
  },
  {
   "cell_type": "markdown",
   "metadata": {},
   "source": [
    "### DataLoader"
   ]
  },
  {
   "cell_type": "code",
   "execution_count": null,
   "metadata": {},
   "outputs": [],
   "source": [
    "# define transforms\n",
    "train_transform = transforms.Compose([\n",
    "    transforms.RandomCrop(224),\n",
    "    transforms.RandomHorizontalFlip(),\n",
    "    transforms.ToTensor(),\n",
    "])\n",
    "\n",
    "valid_transform = transforms.Compose([\n",
    "    transforms.CenterCrop(224),\n",
    "    transforms.ToTensor(),\n",
    "])\n",
    "\n",
    "\n",
    "# create data loaders\n",
    "train_loader = DataLoader(\n",
    "    ImageList(root=ROOT, fileList=TRAIN_LIST, transform=train_transform),\n",
    "    batch_size=BS,\n",
    "    shuffle=True,\n",
    "    num_workers=NUM_WORKER,\n",
    "    pin_memory=True\n",
    ")\n",
    "\n",
    "valid_loader = DataLoader(\n",
    "    ImageList(root=ROOT, fileList=VALID_LIST, transform=valid_transform),\n",
    "    batch_size=BS,\n",
    "    shuffle=False,\n",
    "    num_workers=NUM_WORKER,\n",
    "    pin_memory=True\n",
    ")\n"
   ]
  },
  {
   "cell_type": "markdown",
   "metadata": {},
   "source": [
    "### Train !"
   ]
  },
  {
   "cell_type": "code",
   "execution_count": null,
   "metadata": {},
   "outputs": [],
   "source": [
    "helper = TrainingHelper(\n",
    "    train_dataloader=train_loader,\n",
    "    valid_dataloader=valid_loader,\n",
    "    epochs=EPOCHS,\n",
    "    batch_size=BS,\n",
    "    learning_rate=LR,\n",
    "    print_frequency=PRINT_FREQUENCY,\n",
    "    model=model,\n",
    "    criterion=torch.nn.CrossEntropyLoss(),\n",
    "    optimizer=torch.optim.Adam(params=model.parameters(), lr=LR)\n",
    ")\n",
    "\n",
    "cudnn.benchmark = True\n",
    "\n",
    "helper.validate()\n",
    "for epoch in range(0, EPOCHS):\n",
    "\n",
    "    helper.adjust_learning_rate(epoch)\n",
    "\n",
    "    # train for one epoch\n",
    "    helper.train(epoch)\n",
    "\n",
    "    # evaluate on validation set\n",
    "    prec1 = helper.validate()\n"
   ]
  }
 ],
 "metadata": {
  "interpreter": {
   "hash": "916dbcbb3f70747c44a77c7bcd40155683ae19c65e1c03b4aa3499c5328201f1"
  },
  "kernelspec": {
   "display_name": "Python 3.9.5 64-bit",
   "language": "python",
   "name": "python3"
  },
  "language_info": {
   "codemirror_mode": {
    "name": "ipython",
    "version": 3
   },
   "file_extension": ".py",
   "mimetype": "text/x-python",
   "name": "python",
   "nbconvert_exporter": "python",
   "pygments_lexer": "ipython3",
   "version": "3.9.5"
  },
  "orig_nbformat": 4
 },
 "nbformat": 4,
 "nbformat_minor": 2
}
